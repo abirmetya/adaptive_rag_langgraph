{
 "cells": [
  {
   "cell_type": "markdown",
   "id": "60451fb6",
   "metadata": {},
   "source": [
    "We are building a Adaptive rag.It has two major features- i) dynamic query analysis with ii) adaptive/self correcting mechanisms. In this notebook I will design all the LLM calls 1. Query Routing, 2. Document Relevance Assessment, 3. Hallucination Detection, 4. Answer Quality Evaluation"
   ]
  },
  {
   "cell_type": "code",
   "execution_count": 29,
   "id": "024c58b8",
   "metadata": {},
   "outputs": [
    {
     "name": "stderr",
     "output_type": "stream",
     "text": [
      "d:\\abir\\ai_ml_cv_projects\\adaptive_rag\\.venv\\lib\\site-packages\\tqdm\\auto.py:21: TqdmWarning: IProgress not found. Please update jupyter and ipywidgets. See https://ipywidgets.readthedocs.io/en/stable/user_install.html\n",
      "  from .autonotebook import tqdm as notebook_tqdm\n"
     ]
    }
   ],
   "source": [
    "from langchain_openai import ChatOpenAI\n",
    "from pydantic import BaseModel, Field\n",
    "from langchain.prompts import ChatPromptTemplate\n",
    "from typing import Literal\n",
    "from dotenv import load_dotenv\n",
    "from langchain import hub\n",
    "from sentence_transformers import SentenceTransformer"
   ]
  },
  {
   "cell_type": "code",
   "execution_count": 4,
   "id": "ce3282c4",
   "metadata": {},
   "outputs": [
    {
     "data": {
      "text/plain": [
       "True"
      ]
     },
     "execution_count": 4,
     "metadata": {},
     "output_type": "execute_result"
    }
   ],
   "source": [
    "load_dotenv()"
   ]
  },
  {
   "cell_type": "code",
   "execution_count": 143,
   "id": "cc8503cd",
   "metadata": {},
   "outputs": [
    {
     "name": "stderr",
     "output_type": "stream",
     "text": [
      "d:\\abir\\ai_ml_cv_projects\\adaptive_rag\\.venv\\lib\\site-packages\\langchain_openai\\chat_models\\base.py:1906: UserWarning: Cannot use method='json_schema' with model gpt-3.5-turbo since it doesn't support OpenAI's Structured Output API. You can see supported models here: https://platform.openai.com/docs/guides/structured-outputs#supported-models. To fix this warning, set `method='function_calling'. Overriding to method='function_calling'.\n",
      "  warnings.warn(\n"
     ]
    },
    {
     "data": {
      "text/plain": [
       "QueryRouterOutput(datasource='websearch')"
      ]
     },
     "execution_count": 143,
     "metadata": {},
     "output_type": "execute_result"
    }
   ],
   "source": [
    "# Create uery Router Chain. Query Router will provide either of the three outputs ['vectorstore', 'websearch', 'simple']. \n",
    "llm = ChatOpenAI(model = \"gpt-3.5-turbo\", temperature = 0.0, max_tokens = 100)\n",
    "\n",
    "## Create a pydantic model for the query router structure output\n",
    "class QueryRouterOutput(BaseModel):\n",
    "    \"Route a user query to most relevant datasource\"\n",
    "    datasource: Literal[\"vectorstore\",\"websearch\"] = Field(\n",
    "        ..., description=\"Given a user query, route to the most relevant datasource. The options are 'vectorstore', 'websearch'\"\n",
    "    )\n",
    "\n",
    "structured_llm_router = llm.with_structured_output(QueryRouterOutput)\n",
    "\n",
    "system_prompt = \"\"\"You are a query router to route user query to Vectorstore or websearch or simple. Vectorstore contains about agents, prompt engineering, adversial attacks. Use the vectorstore if the query is related to these topics. Use websearch if the query is not related to these topics.\"\"\"\n",
    "\n",
    "router_prompt = ChatPromptTemplate.from_messages(\n",
    "    [\n",
    "        (\"system\", system_prompt),\n",
    "        (\"human\", \"query: {query}\"),\n",
    "    ]\n",
    ")\n",
    "\n",
    "query_router_chain = router_prompt | structured_llm_router\n",
    "\n",
    "# Example usage of the query router chain\n",
    "query_router_chain.invoke({\"query\": 'Hey, how are you?'})  # Should return 'vectorstore'"
   ]
  },
  {
   "cell_type": "code",
   "execution_count": null,
   "id": "ea70383c",
   "metadata": {},
   "outputs": [
    {
     "name": "stderr",
     "output_type": "stream",
     "text": [
      "d:\\abir\\ai_ml_cv_projects\\adaptive_rag\\.venv\\lib\\site-packages\\langchain_openai\\chat_models\\base.py:1906: UserWarning: Cannot use method='json_schema' with model gpt-3.5-turbo since it doesn't support OpenAI's Structured Output API. You can see supported models here: https://platform.openai.com/docs/guides/structured-outputs#supported-models. To fix this warning, set `method='function_calling'. Overriding to method='function_calling'.\n",
      "  warnings.warn(\n"
     ]
    },
    {
     "data": {
      "text/plain": [
       "RetrievalGraderOutput(is_relevant='no')"
      ]
     },
     "execution_count": 14,
     "metadata": {},
     "output_type": "execute_result"
    }
   ],
   "source": [
    "# Now, let's create a retrieval grader chain. It will check for whether the retrieved documents are actually relevant to the user's question. The output will be either 'yes' or 'no'.\n",
    "\n",
    "class RetrievalGraderOutput(BaseModel):\n",
    "    \"Check if the retrieved documents are relevant to the user's question\"\n",
    "    is_relevant: Literal[\"yes\", \"no\"] = Field(\n",
    "        ..., description=\"Check if the retrieved documents are relevant to the user's question. The options are 'yes' or 'no'.\"\n",
    "    )\n",
    "\n",
    "retrieval_grader = llm.with_structured_output(RetrievalGraderOutput)\n",
    "\n",
    "system_prompt = \"\"\"You are a retrieval grader to check if the retrieved documents are relevant to the user's question. If the retrieved documents are relevant, return 'yes'. If the retrieved documents are not relevant, return 'no'.\"\"\"\n",
    "\n",
    "grader_prompt = ChatPromptTemplate.from_messages(\n",
    "    [\n",
    "        (\"system\", system_prompt),\n",
    "        (\"human\", \"query: {query}\\nretrieved_docs: {retrieved_docs}\"),\n",
    "    ]\n",
    ")\n",
    "\n",
    "retrieval_grader_chain = grader_prompt | retrieval_grader\n",
    "\n",
    "# Example usage of the retrieval grader chain\n",
    "retrieval_grader_chain.invoke({\n",
    "    \"query\": \"What is the capital of France?\",\n",
    "    \"retrieved_docs\": \"AI agents are autonomous programs that can perform tasks without human intervention. They can be used for a variety of purposes, such as data analysis, web scraping, and automation.\"})  # Should return 'no'\n"
   ]
  },
  {
   "cell_type": "code",
   "execution_count": null,
   "id": "2bb24bc4",
   "metadata": {},
   "outputs": [
    {
     "name": "stderr",
     "output_type": "stream",
     "text": [
      "d:\\abir\\ai_ml_cv_projects\\adaptive_rag\\.venv\\lib\\site-packages\\langchain_openai\\chat_models\\base.py:1906: UserWarning: Cannot use method='json_schema' with model gpt-3.5-turbo since it doesn't support OpenAI's Structured Output API. You can see supported models here: https://platform.openai.com/docs/guides/structured-outputs#supported-models. To fix this warning, set `method='function_calling'. Overriding to method='function_calling'.\n",
      "  warnings.warn(\n"
     ]
    },
    {
     "data": {
      "text/plain": [
       "HallucinationCheckerOutput(is_hallucinated='yes')"
      ]
     },
     "execution_count": 15,
     "metadata": {},
     "output_type": "execute_result"
    }
   ],
   "source": [
    "# Now let's create a Hallucination Checker Chain. It will check if the LLM response is hallucinated or not. The output will be either 'yes' or 'no'.\n",
    "\n",
    "class HallucinationCheckerOutput(BaseModel):\n",
    "    \"Check if the LLM response is hallucinated or not\"\n",
    "    is_hallucinated: Literal[\"yes\", \"no\"] = Field(\n",
    "        ..., description=\"Check if the LLM response is hallucinated or not. The options are 'yes' or 'no'.\"\n",
    "    )\n",
    "\n",
    "hallucination_checker = llm.with_structured_output(HallucinationCheckerOutput)\n",
    "\n",
    "system_prompt = \"\"\"You are a hallucination checker to check if the LLM response is hallucinated or not. If the LLM response is hallucinated, return 'yes'. If the LLM response is not hallucinated, and supported by a set of reteieved facts, return 'no'.\"\"\"\n",
    "\n",
    "hallucination_checker_prompt = ChatPromptTemplate.from_messages(\n",
    "    [\n",
    "        (\"system\", system_prompt),\n",
    "        (\"human\", \"retrieved_docs: {retrieved_docs}\\nllm_response: {llm_response}\"),\n",
    "    ]\n",
    ")\n",
    "\n",
    "hallucination_checker_chain = hallucination_checker_prompt | hallucination_checker\n",
    "\n",
    "# Example usage of the hallucination checker chain\n",
    "hallucination_checker_chain.invoke({\n",
    "    \"retrieved_docs\": \"AI agents are autonomous programs that can perform tasks without human intervention. They can be used for a variety of purposes, such as data analysis, web scraping, and automation.\",\n",
    "    \"llm_response\": \"The capital of France is Paris.\"})  # Should return 'yes'"
   ]
  },
  {
   "cell_type": "code",
   "execution_count": null,
   "id": "b1933b2a",
   "metadata": {},
   "outputs": [
    {
     "name": "stderr",
     "output_type": "stream",
     "text": [
      "d:\\abir\\ai_ml_cv_projects\\adaptive_rag\\.venv\\lib\\site-packages\\langchain_openai\\chat_models\\base.py:1906: UserWarning: Cannot use method='json_schema' with model gpt-3.5-turbo since it doesn't support OpenAI's Structured Output API. You can see supported models here: https://platform.openai.com/docs/guides/structured-outputs#supported-models. To fix this warning, set `method='function_calling'. Overriding to method='function_calling'.\n",
      "  warnings.warn(\n"
     ]
    },
    {
     "data": {
      "text/plain": [
       "AnswerQualityCheckerOutput(is_good_quality='yes')"
      ]
     },
     "execution_count": 16,
     "metadata": {},
     "output_type": "execute_result"
    }
   ],
   "source": [
    "# Let's create a Answer quality checker chain. It will check if the LLM response is of good quality or not. The output will be either 'yes' or 'no'.\n",
    "\n",
    "class AnswerQualityCheckerOutput(BaseModel):\n",
    "    \"Check if the LLM response is of good quality or not\"\n",
    "    is_good_quality: Literal[\"yes\", \"no\"] = Field(\n",
    "        ..., description=\"Check if the LLM response is of good quality or not. The options are 'yes' or 'no'.\"\n",
    "    )\n",
    "\n",
    "answer_quality_checker = llm.with_structured_output(AnswerQualityCheckerOutput)\n",
    "\n",
    "system_prompt = \"\"\" You are an answer quality checker wheather the LLM response correctly answers the user's question. If the LLM response is of good quality, return 'yes'. If the LLM response is not of good quality, return 'no'.\"\"\"\n",
    "\n",
    "answer_quality_checker_prompt = ChatPromptTemplate.from_messages(\n",
    "    [\n",
    "        (\"system\", system_prompt),\n",
    "        (\"human\", \"query: {query}\\nllm_response: {llm_response}\"),\n",
    "    ])\n",
    "\n",
    "answer_quality_checker_chain = answer_quality_checker_prompt | answer_quality_checker\n",
    "\n",
    "# Example usage of the answer quality checker chain\n",
    "answer_quality_checker_chain.invoke({\"query\": \"What is the capital of France?\",\n",
    "                                     \"llm_response\": \"The capital of France is Paris.\"})  # Should return"
   ]
  },
  {
   "cell_type": "code",
   "execution_count": 138,
   "id": "6e3fbffa",
   "metadata": {},
   "outputs": [],
   "source": [
    "from langchain_core.messages import SystemMessage, HumanMessage"
   ]
  },
  {
   "cell_type": "code",
   "execution_count": 149,
   "id": "e2a36fe4",
   "metadata": {},
   "outputs": [],
   "source": [
    "# messages = [\n",
    "#     SystemMessage(content = \"You are a query rewriter to rewrite the user's query to be more specific and clear. The rewritten query should be more focused and should help in retrieving more relevant documents.\"),\n",
    "#     HumanMessage(content = f\"The previous query was: {query}. This query is not specific enough. Please rewrite it to be more specific and clear. Do not write any additional introductory text or greetings.\")\n",
    "#     ]\n",
    "# response = llm.invoke(messages)\n",
    "\n",
    "system_prompt = \"\"\"You are a query rewriter to rewrite the user's query to be more specific and clear. The rewritten query should be more focused and should help in retrieving more relevant documents. Do not write any additional introductory text or greetings.\"\"\"\n",
    "rewrite_query_prompt = ChatPromptTemplate.from_messages(\n",
    "    [\n",
    "        (\"system\", system_prompt),\n",
    "        (\"human\", \"query: {query}\")\n",
    "    ]\n",
    ")\n",
    "rewrite_query_chain = rewrite_query_prompt | llm"
   ]
  },
  {
   "cell_type": "code",
   "execution_count": 151,
   "id": "cd1faa63",
   "metadata": {},
   "outputs": [
    {
     "data": {
      "text/plain": [
       "AIMessage(content='weather forecast for today', additional_kwargs={'refusal': None}, response_metadata={'token_usage': {'completion_tokens': 4, 'prompt_tokens': 64, 'total_tokens': 68, 'completion_tokens_details': {'accepted_prediction_tokens': 0, 'audio_tokens': 0, 'reasoning_tokens': 0, 'rejected_prediction_tokens': 0}, 'prompt_tokens_details': {'audio_tokens': 0, 'cached_tokens': 0}}, 'model_name': 'gpt-3.5-turbo-0125', 'system_fingerprint': None, 'id': 'chatcmpl-C4ujR9skbqENYLW53BSNG5BpPa3Nv', 'service_tier': 'default', 'finish_reason': 'stop', 'logprobs': None}, id='run--4b9d8e52-c6b5-4632-ad7e-98596e020fc8-0', usage_metadata={'input_tokens': 64, 'output_tokens': 4, 'total_tokens': 68, 'input_token_details': {'audio': 0, 'cache_read': 0}, 'output_token_details': {'audio': 0, 'reasoning': 0}})"
      ]
     },
     "execution_count": 151,
     "metadata": {},
     "output_type": "execute_result"
    }
   ],
   "source": [
    "rewrite_query_chain.invoke({\"query\": \"What is the weather today?\"})  # Should return a more specific query like \"What is the capital city of France?\""
   ]
  },
  {
   "cell_type": "code",
   "execution_count": 26,
   "id": "d40dcc4b",
   "metadata": {},
   "outputs": [
    {
     "name": "stderr",
     "output_type": "stream",
     "text": [
      "d:\\abir\\ai_ml_cv_projects\\adaptive_rag\\.venv\\lib\\site-packages\\langsmith\\client.py:272: LangSmithMissingAPIKeyWarning: API key must be provided when using hosted LangSmith API\n",
      "  warnings.warn(\n"
     ]
    }
   ],
   "source": [
    "llm_generation = ChatOpenAI(model = \"gpt-3.5-turbo\", temperature = 0.0)\n",
    "\n",
    "prompt = hub.pull(\"rlm/rag-prompt\")\n",
    "\n",
    "generation_chain = prompt | llm_generation"
   ]
  },
  {
   "cell_type": "code",
   "execution_count": 28,
   "id": "c99e3732",
   "metadata": {},
   "outputs": [
    {
     "data": {
      "text/plain": [
       "AIMessage(content='AI agents are autonomous programs that can perform tasks without human intervention. They are used for data analysis, web scraping, and automation.', additional_kwargs={'refusal': None}, response_metadata={'token_usage': {'completion_tokens': 26, 'prompt_tokens': 104, 'total_tokens': 130, 'completion_tokens_details': {'accepted_prediction_tokens': 0, 'audio_tokens': 0, 'reasoning_tokens': 0, 'rejected_prediction_tokens': 0}, 'prompt_tokens_details': {'audio_tokens': 0, 'cached_tokens': 0}}, 'model_name': 'gpt-3.5-turbo-0125', 'system_fingerprint': None, 'id': 'chatcmpl-C4jtLOL1Fctz9I227XbhVJCF94KqW', 'service_tier': 'default', 'finish_reason': 'stop', 'logprobs': None}, id='run--46ada0b9-a94e-49a3-84c0-811a3743e6b9-0', usage_metadata={'input_tokens': 104, 'output_tokens': 26, 'total_tokens': 130, 'input_token_details': {'audio': 0, 'cache_read': 0}, 'output_token_details': {'audio': 0, 'reasoning': 0}})"
      ]
     },
     "execution_count": 28,
     "metadata": {},
     "output_type": "execute_result"
    }
   ],
   "source": [
    "generation_chain.invoke({\"context\": \"AI agents are autonomous programs that can perform tasks without human intervention. They can be used for a variety of purposes, such as data analysis, web scraping, and automation.\",\n",
    "                         \"question\": \"What is AI agents?\"})  # Should return 'The"
   ]
  },
  {
   "cell_type": "code",
   "execution_count": 33,
   "id": "418bbe5e",
   "metadata": {},
   "outputs": [],
   "source": [
    "embed_model = SentenceTransformer(\"all-MiniLM-L6-v2\")"
   ]
  },
  {
   "cell_type": "code",
   "execution_count": null,
   "id": "da8f738c",
   "metadata": {},
   "outputs": [
    {
     "name": "stdout",
     "output_type": "stream",
     "text": [
      "(3, 384)\n"
     ]
    }
   ],
   "source": [
    "# ## Example of a SentenceTransformer model usage\n",
    "# # The sentences to encode\n",
    "# sentences = [\n",
    "#     \"The weather is lovely today.\",\n",
    "#     \"It's so sunny outside!\",\n",
    "#     \"He drove to the stadium.\",\n",
    "# ]\n",
    "\n",
    "# # 2. Calculate embeddings by calling model.encode()\n",
    "# embeddings = embed_model.encode(sentences)\n",
    "# print(embeddings.shape)"
   ]
  },
  {
   "cell_type": "code",
   "execution_count": 50,
   "id": "c969e80d",
   "metadata": {},
   "outputs": [],
   "source": [
    "# Create document ingetion pipeline\n",
    "from langchain.text_splitter import RecursiveCharacterTextSplitter\n",
    "from langchain_chroma import Chroma\n",
    "from langchain_community.document_loaders import WebBaseLoader\n",
    "from langchain_community.embeddings import SentenceTransformerEmbeddings"
   ]
  },
  {
   "cell_type": "code",
   "execution_count": null,
   "id": "b7450083",
   "metadata": {},
   "outputs": [],
   "source": [
    "## We will provide a list of URLs to the WebBaseLoader to load the documents from the web.\n",
    "urls = [\n",
    "    \"https://en.wikipedia.org/wiki/Artificial_intelligence\",\n",
    "    \"https://en.wikipedia.org/wiki/AI_agent\",\n",
    "    \"https://en.wikipedia.org/wiki/Prompt_engineering\",\n",
    "    \"https://lilianweng.github.io/posts/2023-06-23-agent/\",\n",
    "    \"https://lilianweng.github.io/posts/2023-03-15-prompt-engineering/\",\n",
    "    \"https://lilianweng.github.io/posts/2023-10-25-adv-attack-llm/\",\n",
    "]"
   ]
  },
  {
   "cell_type": "code",
   "execution_count": 39,
   "id": "1849ce14",
   "metadata": {},
   "outputs": [],
   "source": [
    "docs = [WebBaseLoader(url).load() for url in urls]"
   ]
  },
  {
   "cell_type": "code",
   "execution_count": null,
   "id": "78b2f3eb",
   "metadata": {},
   "outputs": [],
   "source": [
    "docs_list = [item for sublist in docs for item in sublist] ## Flatten the list of lists"
   ]
  },
  {
   "cell_type": "code",
   "execution_count": 47,
   "id": "c4fecf92",
   "metadata": {},
   "outputs": [],
   "source": [
    "## We are using tiktoken encoding to ensure accurate 250 token chunks for the LLM.\n",
    "text_splitter = RecursiveCharacterTextSplitter.from_tiktoken_encoder(chunk_size=250, chunk_overlap=10)"
   ]
  },
  {
   "cell_type": "code",
   "execution_count": 48,
   "id": "25212a40",
   "metadata": {},
   "outputs": [],
   "source": [
    "doc_split = text_splitter.split_documents(docs_list)  # Split the documents into chunks"
   ]
  },
  {
   "cell_type": "code",
   "execution_count": 51,
   "id": "fa955c6f",
   "metadata": {},
   "outputs": [
    {
     "name": "stderr",
     "output_type": "stream",
     "text": [
      "C:\\Users\\Abir\\AppData\\Local\\Temp\\ipykernel_4620\\1085340454.py:2: LangChainDeprecationWarning: The class `HuggingFaceEmbeddings` was deprecated in LangChain 0.2.2 and will be removed in 1.0. An updated version of the class exists in the :class:`~langchain-huggingface package and should be used instead. To use it run `pip install -U :class:`~langchain-huggingface` and import as `from :class:`~langchain_huggingface import HuggingFaceEmbeddings``.\n",
      "  embed_model = SentenceTransformerEmbeddings(model_name=\"all-MiniLM-L6-v2\")\n"
     ]
    }
   ],
   "source": [
    "# embed_model = SentenceTransformer(\"all-MiniLM-L6-v2\")\n",
    "embed_model = SentenceTransformerEmbeddings(model_name=\"all-MiniLM-L6-v2\")"
   ]
  },
  {
   "cell_type": "code",
   "execution_count": 52,
   "id": "26ad81f0",
   "metadata": {},
   "outputs": [],
   "source": [
    "## Create vectore store with documents\n",
    "vector_store = Chroma.from_documents(\n",
    "    documents = doc_split, \n",
    "    embedding = embed_model, \n",
    "    collection_name=\"adaptive_rag\", \n",
    "    persist_directory=\"./.chroma\"\n",
    "    )"
   ]
  },
  {
   "cell_type": "code",
   "execution_count": 53,
   "id": "5768b336",
   "metadata": {},
   "outputs": [],
   "source": [
    "# Create retriever from the vector store\n",
    "retriever = vector_store.as_retriever(\n",
    "    search_type=\"similarity\", \n",
    "    search_kwargs={\"k\": 3}  # Retrieve top 3 most similar documents\n",
    ")"
   ]
  },
  {
   "cell_type": "code",
   "execution_count": 55,
   "id": "b2928361",
   "metadata": {},
   "outputs": [
    {
     "data": {
      "text/plain": [
       "[Document(id='26b06125-c85a-4150-b96e-ed830a345e08', metadata={'source': 'https://en.wikipedia.org/wiki/AI_agent', 'language': 'en', 'title': 'Agentic AI - Wikipedia'}, page_content='Overview[edit]\\nThe core concept of agentic AI is the use of AI agents to perform automated tasks but without human intervention.[1] While robotic process automation (RPA) and AI agents can be programmed to automate specific tasks or support rule-based decisions, the rules are usually fixed.[2] Agentic AI operates independently, making decisions through continuous learning and analysis of external data and complex data sets.[3] Functioning agents can require various AI techniques, such as natural language processing, machine learning (ML), and computer vision, depending on the environment.[1]'),\n",
       " Document(id='3b820bbf-1267-4a9b-a3e6-1fba445cd7e8', metadata={'title': 'Artificial intelligence - Wikipedia', 'language': 'en', 'source': 'https://en.wikipedia.org/wiki/Artificial_intelligence'}, page_content='Agents\\nMain article: Agentic AI\\nAI agents are software entities designed to perceive their environment, make decisions, and take actions autonomously to achieve specific goals. These agents can interact with users, their environment, or other agents. AI agents are used in various applications, including virtual assistants, chatbots, autonomous vehicles, game-playing systems, and industrial robotics. AI agents operate within the constraints of their programming, available computational resources, and hardware limitations. This means they are restricted to performing tasks within their defined scope and have finite memory and processing capabilities. In real-world applications, AI agents often face time constraints for decision-making and action execution. Many AI agents incorporate learning algorithms, enabling them to improve their performance over time through experience or training. Using machine learning, AI agents can adapt to new situations and optimise their behaviour for their designated tasks.[199][200][201]'),\n",
       " Document(id='f5bd6259-a648-47ca-8844-a9449d4d7248', metadata={'language': 'en', 'source': 'https://en.wikipedia.org/wiki/AI_agent', 'title': 'Agentic AI - Wikipedia'}, page_content='See also[edit]\\nIntelligent agent\\nModel Context Protocol\\nRational agent\\nRobotic process automation\\nSoftware agent\\nReferences[edit]\\n\\n\\n^ a b Miller, Ron (December 15, 2024). \"What exactly is an AI agent?\". TechCrunch.\\n\\n^ \"Battle bots: RPA and agentic AI\". CIO.\\n\\n^ Leitner, Hendrik (July 15, 2024). \"What Is Agentic AI & Is It The Next Big Thing?\". SSON.\\n\\n^ a b Hosseini, Soodeh; Seilani, Hossein (July 1, 2025). \"The role of agentic AI in shaping a smart future: A systematic review\". Array. 26 100399. doi:10.1016/j.array.2025.100399. ISSN\\xa02590-0056.')]"
      ]
     },
     "execution_count": 55,
     "metadata": {},
     "output_type": "execute_result"
    }
   ],
   "source": [
    "## Test the retriever\n",
    "retriever.get_relevant_documents(\"What is AI agents?\")  # Should return a list of documents related to the query"
   ]
  },
  {
   "cell_type": "code",
   "execution_count": 74,
   "id": "d68e8ffa",
   "metadata": {},
   "outputs": [],
   "source": [
    "from langgraph.graph import StateGraph, START, END\n",
    "from typing import TypedDict\n",
    "from langchain_community.tools import DuckDuckGoSearchRun\n",
    "from langchain.schema import Document"
   ]
  },
  {
   "cell_type": "code",
   "execution_count": 186,
   "id": "19e1e7ca",
   "metadata": {},
   "outputs": [],
   "source": [
    "class AdaptiveRAGState(TypedDict):\n",
    "    \"State for the Adaptive RAG graph\"\n",
    "    query: str\n",
    "    datasource: str\n",
    "    retrieved_docs: list[str]\n",
    "    is_relevant: str\n",
    "    quality_checker: str\n",
    "    llm_response: str"
   ]
  },
  {
   "cell_type": "code",
   "execution_count": 199,
   "id": "6e079f2b",
   "metadata": {},
   "outputs": [],
   "source": [
    "def query_router(state: AdaptiveRAGState):\n",
    "    \"Route the user query to the most relevant datasource\"\n",
    "    query = state[\"query\"]\n",
    "    response = query_router_chain.invoke({\"query\": query})\n",
    "    # print(response.datasource)\n",
    "    return {\"datasource\": response.datasource}\n",
    "\n",
    "def query_router_decision(state: AdaptiveRAGState) -> Literal[\"retrieval_route\", \"websearch_route\"]:\n",
    "    \"Route the user query to the most relevant datasource\"\n",
    "    datasource = state[\"datasource\"]\n",
    "    print(\"---ROUTE QUESTION---\")\n",
    "    if datasource == \"vectorstore\":\n",
    "        print(\"---ROUTE QUESTION TO RAG---\")\n",
    "        return \"retrieval_route\"\n",
    "    if datasource == \"websearch\":\n",
    "        print(\"---ROUTE QUESTION TO WEB SEARCH---\")\n",
    "        return \"websearch_route\"\n",
    "    \n",
    "def retrieval_route(state: AdaptiveRAGState):\n",
    "    \"Retrieve documents from the vector store\"\n",
    "    query = state[\"query\"]\n",
    "    print(\"---RETRIEVE---\")\n",
    "    retrieved_docs = retriever.get_relevant_documents(query)\n",
    "    retrieved_docs_list = [doc.page_content for doc in retrieved_docs]\n",
    "    return {\"retrieved_docs\": retrieved_docs_list}\n",
    "\n",
    "def websearch_route(state: AdaptiveRAGState):\n",
    "    \"Perform web search to retrieve documents\"\n",
    "    # Placeholder for web search logic\n",
    "    # For now, we will return an empty list\n",
    "    query = state[\"query\"]\n",
    "    print(query)\n",
    "    search_tool = DuckDuckGoSearchRun()\n",
    "    print(search_tool)\n",
    "    results = search_tool.invoke(str(query))  # Perform web search\n",
    "    print(results)\n",
    "    web_results = Document(page_content=results, metadata={\"source\": \"websearch\"})\n",
    "    return {\"retrieved_docs\": web_results}\n",
    "\n",
    "def retrieval_grader(state: AdaptiveRAGState) -> Literal[\"content_generation\", \"rewrite_query\"]:\n",
    "    \"Check if the retrieved documents are relevant to the user's question\"\n",
    "    query = state[\"query\"]\n",
    "    retrieved_docs = state[\"retrieved_docs\"]\n",
    "    response = retrieval_grader_chain.invoke({\"query\": query, \"retrieved_docs\": retrieved_docs})\n",
    "    if response.is_relevant == \"yes\":\n",
    "        return \"content_generation\"\n",
    "    if response.is_relevant == \"no\":\n",
    "        return \"rewrite_query\"\n",
    "\n",
    "def rewrite_query(state: AdaptiveRAGState):\n",
    "    \"Rewrite the user query to be more specific and clear\"\n",
    "    query = state[\"query\"]\n",
    "    response = rewrite_query_chain.invoke({\"query\": query})\n",
    "    return {\"query\": response}  # Update the query in the state with the rewritten query\n",
    "\n",
    "def content_generation(state: AdaptiveRAGState):\n",
    "    \"Generate content using the LLM\"\n",
    "    retrieved_docs = state[\"retrieved_docs\"]\n",
    "    query = state[\"query\"]\n",
    "    try:\n",
    "        context = \"\\n\".join(retrieved_docs)\n",
    "    except TypeError:\n",
    "        context = str(retrieved_docs)\n",
    "    llm_response = generation_chain.invoke({\"context\": context, \"question\": query})\n",
    "    return {\"llm_response\": llm_response}\n",
    "\n",
    "def hallucination_checker(state: AdaptiveRAGState):\n",
    "    \"Check if the LLM response is hallucinated or not\"\n",
    "    retrieved_docs = state[\"retrieved_docs\"]\n",
    "    llm_response = state[\"llm_response\"]\n",
    "    response = hallucination_checker_chain.invoke({\"retrieved_docs\": retrieved_docs, \"llm_response\": llm_response})\n",
    "    if response.is_hallucinated == \"yes\":\n",
    "        return \"not_approved\"\n",
    "    if response.is_hallucinated == \"no\":\n",
    "        return \"approved\"\n",
    "    \n",
    "def answer_quality_checker(state: AdaptiveRAGState):\n",
    "    \"Check if the LLM response is of good quality or not\"\n",
    "    query = state[\"query\"]\n",
    "    llm_response = state[\"llm_response\"]\n",
    "    response = answer_quality_checker_chain.invoke({\"query\": query, \"llm_response\": llm_response})\n",
    "    return {\"quality_checker\": response}\n",
    "\n",
    "def endnote(state: AdaptiveRAGState):\n",
    "    quality_checker = state[\"quality_checker\"]\n",
    "    if quality_checker == \"yes\":\n",
    "        return \"END\"\n",
    "    if quality_checker == \"no\":\n",
    "        return \"rewritequery\""
   ]
  },
  {
   "cell_type": "code",
   "execution_count": null,
   "id": "7a45285e",
   "metadata": {},
   "outputs": [],
   "source": []
  },
  {
   "cell_type": "code",
   "execution_count": 164,
   "id": "1aec12e2",
   "metadata": {},
   "outputs": [],
   "source": [
    "# retrieval_route({\"query\": \"What is AI agents?\"})  # Should return a list of documents related to the query\n",
    "# websearch_route({\"query\": \"What is AI agents?\"})  # Should return a list of documents related to the query"
   ]
  },
  {
   "cell_type": "code",
   "execution_count": 195,
   "id": "ce292c2c",
   "metadata": {},
   "outputs": [
    {
     "name": "stdout",
     "output_type": "stream",
     "text": [
      "vectorstore\n"
     ]
    },
    {
     "data": {
      "text/plain": [
       "{'query': 'What is AI agents?',\n",
       " 'datasource': 'vectorstore',\n",
       " 'retrieved_docs': ['Overview[edit]\\nThe core concept of agentic AI is the use of AI agents to perform automated tasks but without human intervention.[1] While robotic process automation (RPA) and AI agents can be programmed to automate specific tasks or support rule-based decisions, the rules are usually fixed.[2] Agentic AI operates independently, making decisions through continuous learning and analysis of external data and complex data sets.[3] Functioning agents can require various AI techniques, such as natural language processing, machine learning (ML), and computer vision, depending on the environment.[1]',\n",
       "  'Agents\\nMain article: Agentic AI\\nAI agents are software entities designed to perceive their environment, make decisions, and take actions autonomously to achieve specific goals. These agents can interact with users, their environment, or other agents. AI agents are used in various applications, including virtual assistants, chatbots, autonomous vehicles, game-playing systems, and industrial robotics. AI agents operate within the constraints of their programming, available computational resources, and hardware limitations. This means they are restricted to performing tasks within their defined scope and have finite memory and processing capabilities. In real-world applications, AI agents often face time constraints for decision-making and action execution. Many AI agents incorporate learning algorithms, enabling them to improve their performance over time through experience or training. Using machine learning, AI agents can adapt to new situations and optimise their behaviour for their designated tasks.[199][200][201]',\n",
       "  'See also[edit]\\nIntelligent agent\\nModel Context Protocol\\nRational agent\\nRobotic process automation\\nSoftware agent\\nReferences[edit]\\n\\n\\n^ a b Miller, Ron (December 15, 2024). \"What exactly is an AI agent?\". TechCrunch.\\n\\n^ \"Battle bots: RPA and agentic AI\". CIO.\\n\\n^ Leitner, Hendrik (July 15, 2024). \"What Is Agentic AI & Is It The Next Big Thing?\". SSON.\\n\\n^ a b Hosseini, Soodeh; Seilani, Hossein (July 1, 2025). \"The role of agentic AI in shaping a smart future: A systematic review\". Array. 26 100399. doi:10.1016/j.array.2025.100399. ISSN\\xa02590-0056.'],\n",
       " 'llm_response': AIMessage(content='AI agents are software entities that can perceive their environment, make decisions, and take actions autonomously to achieve specific goals. They interact with users, their environment, or other agents in various applications such as virtual assistants, chatbots, autonomous vehicles, game-playing systems, and industrial robotics. AI agents operate within the constraints of their programming, available computational resources, and hardware limitations.', additional_kwargs={'refusal': None}, response_metadata={'token_usage': {'completion_tokens': 75, 'prompt_tokens': 540, 'total_tokens': 615, 'completion_tokens_details': {'accepted_prediction_tokens': 0, 'audio_tokens': 0, 'reasoning_tokens': 0, 'rejected_prediction_tokens': 0}, 'prompt_tokens_details': {'audio_tokens': 0, 'cached_tokens': 0}}, 'model_name': 'gpt-3.5-turbo-0125', 'system_fingerprint': None, 'id': 'chatcmpl-C4viiAjQofKRIYwjLLPtthUjgkPVW', 'service_tier': 'default', 'finish_reason': 'stop', 'logprobs': None}, id='run--503e847a-3e77-449f-98a0-e6819fbc2855-0', usage_metadata={'input_tokens': 540, 'output_tokens': 75, 'total_tokens': 615, 'input_token_details': {'audio': 0, 'cache_read': 0}, 'output_token_details': {'audio': 0, 'reasoning': 0}})}"
      ]
     },
     "execution_count": 195,
     "metadata": {},
     "output_type": "execute_result"
    }
   ],
   "source": [
    "# Create Graph\n",
    "graph = StateGraph(AdaptiveRAGState)\n",
    "\n",
    "# Create node\n",
    "graph.add_node(\"query_router\",query_router)\n",
    "graph.add_node(\"retrieval_route\", retrieval_route)\n",
    "graph.add_node(\"websearch_route\", websearch_route)\n",
    "graph.add_node(\"content_generation\", content_generation)\n",
    "graph.add_node(\"rewrite_query\", rewrite_query)\n",
    "# graph.add_node(\"hallucination_checker\", hallucination_checker)\n",
    "# graph.add_node(\"answer_quality_checker\", answer_quality_checker)\n",
    "# graph.add_node(\"retrieval_grader\", retrieval_grader)\n",
    "\n",
    "\n",
    "# Create edge\n",
    "graph.add_edge(START, \"query_router\")\n",
    "graph.add_conditional_edges(\"query_router\", query_router_decision)\n",
    "# graph.add_conditional_edges(START, query_router)\n",
    "# graph.add_edge(query_router, \"retrieval_route\")\n",
    "graph.add_conditional_edges(\"retrieval_route\", retrieval_grader)\n",
    "graph.add_conditional_edges(\"content_generation\", hallucination_checker, {\"not_approved\": \"content_generation\", \"approved\": END})\n",
    "\n",
    "# graph.add_conditional_edges(\"content_generation\", hallucination_checker, {\"not_approved\": \"content_generation\", \"approved\": \"answer_quality_checker\"})\n",
    "# graph.add_conditional_edges(\"answer_quality_checker\",endnote,{\"END\": END, \"rewritequery\": \"rewrite_query\"})\n",
    "\n",
    "# graph.add_edge(content_generation,\"answer_quality_checker\")\n",
    "\n",
    "graph.add_edge(\"rewrite_query\",\"retrieval_route\")\n",
    "\n",
    "\n",
    "# graph.add_edge(query_router, \"websearch_route\")\n",
    "graph.add_edge(\"websearch_route\", \"content_generation\")\n",
    "graph.add_edge(\"content_generation\", END)\n",
    "\n",
    "# Complie\n",
    "workflow = graph.compile()\n",
    "\n",
    "# Run\n",
    "workflow.invoke({\"query\": \"What is AI agents?\"}) "
   ]
  },
  {
   "cell_type": "code",
   "execution_count": 194,
   "id": "cdd366f5",
   "metadata": {},
   "outputs": [
    {
     "data": {
      "image/png": "[encoded data removed]",
      "text/plain": [
       "<langgraph.graph.state.CompiledStateGraph object at 0x000001903D038C70>"
      ]
     },
     "execution_count": 194,
     "metadata": {},
     "output_type": "execute_result"
    }
   ],
   "source": [
    "workflow"
   ]
  },
  {
   "cell_type": "code",
   "execution_count": 200,
   "id": "2aabf29d",
   "metadata": {},
   "outputs": [
    {
     "name": "stdout",
     "output_type": "stream",
     "text": [
      "============================================================\n",
      "🤖 Advanced RAG Chatbot\n",
      "============================================================\n",
      "Welcome! Ask me anything or type 'quit', 'exit', or 'bye' to stop.\n",
      "------------------------------------------------------------\n"
     ]
    },
    {
     "name": "stdout",
     "output_type": "stream",
     "text": [
      "\n",
      "🤔 Bot: Thinking...\n",
      "vectorstore\n",
      "\n",
      "🤖 Bot: content='Agentic AI is the use of AI agents to perform automated tasks without human intervention, operating independently through continuous learning and analysis of data. It can require various AI techniques like natural language processing, machine learning, and computer vision depending on the environment. Agentic AI has been named a top emerging technology for 2025 by research firm Forrester.' additional_kwargs={'refusal': None} response_metadata={'token_usage': {'completion_tokens': 70, 'prompt_tokens': 487, 'total_tokens': 557, 'completion_tokens_details': {'accepted_prediction_tokens': 0, 'audio_tokens': 0, 'reasoning_tokens': 0, 'rejected_prediction_tokens': 0}, 'prompt_tokens_details': {'audio_tokens': 0, 'cached_tokens': 0}}, 'model_name': 'gpt-3.5-turbo-0125', 'system_fingerprint': None, 'id': 'chatcmpl-C4vxwd6Tw1B0Cj73a4ne7ZpdKQ0AW', 'service_tier': 'default', 'finish_reason': 'stop', 'logprobs': None} id='run--ec29e7b3-46e0-45f7-b15b-e7a4d61c0d99-0' usage_metadata={'input_tokens': 487, 'output_tokens': 70, 'total_tokens': 557, 'input_token_details': {'audio': 0, 'cache_read': 0}, 'output_token_details': {'audio': 0, 'reasoning': 0}}\n",
      "\n",
      "👋 Goodbye! Thanks for chatting!\n"
     ]
    }
   ],
   "source": [
    "from dotenv import load_dotenv\n",
    "\n",
    "load_dotenv()\n",
    "\n",
    "# from graph.graph import app\n",
    "\n",
    "def format_response(result):\n",
    "    \"\"\"Format the response from the graph for better readability\"\"\"\n",
    "    if isinstance(result, dict) and \"llm_response\" in result:\n",
    "        return result[\"llm_response\"]\n",
    "    elif isinstance(result, dict) and \"generation\" in result:\n",
    "        return result[\"generation\"]\n",
    "    elif isinstance(result, dict) and \"answer\" in result:\n",
    "        return result[\"answer\"]\n",
    "    else:\n",
    "        # Fallback to string representation\n",
    "        return str(result)\n",
    "\n",
    "\n",
    "def main():\n",
    "    print(\"=\" * 60)\n",
    "    print(\"🤖 Advanced RAG Chatbot\")\n",
    "    print(\"=\" * 60)\n",
    "    print(\"Welcome! Ask me anything or type 'quit', 'exit', or 'bye' to stop.\")\n",
    "    print(\"-\" * 60)\n",
    "    \n",
    "    while True:\n",
    "        try:\n",
    "            # Get user input\n",
    "            user_question = input(\"\\n💬 You: \").strip()\n",
    "            \n",
    "            # Check for exit commands\n",
    "            if user_question.lower() in ['quit', 'exit', 'bye', 'q']:\n",
    "                print(\"\\n👋 Goodbye! Thanks for chatting!\")\n",
    "                break\n",
    "            \n",
    "            # Skip empty inputs\n",
    "            if not user_question:\n",
    "                print(\"Please enter a question.\")\n",
    "                continue\n",
    "            \n",
    "            # Show processing indicator\n",
    "            print(\"\\n🤔 Bot: Thinking...\")\n",
    "            \n",
    "            # Process the question through the graph\n",
    "            result = workflow.invoke(input={\"query\": user_question})\n",
    "            \n",
    "            # Format and display the response\n",
    "            response = format_response(result)\n",
    "            print(f\"\\n🤖 Bot: {response}\")\n",
    "            \n",
    "        except KeyboardInterrupt:\n",
    "            print(\"\\n\\n👋 Goodbye! Thanks for chatting!\")\n",
    "            break\n",
    "        except Exception as e:\n",
    "            print(f\"\\n❌ Sorry, I encountered an error: {str(e)}\")\n",
    "            print(\"Please try asking your question again.\")\n",
    "\n",
    "\n",
    "if __name__ == \"__main__\":\n",
    "    main()"
   ]
  },
  {
   "cell_type": "code",
   "execution_count": null,
   "id": "df9820f3",
   "metadata": {},
   "outputs": [
    {
     "name": "stdout",
     "output_type": "stream",
     "text": [
      "How is the weather today?\n"
     ]
    },
    {
     "name": "stderr",
     "output_type": "stream",
     "text": [
      "d:\\abir\\ai_ml_cv_projects\\adaptive_rag\\.venv\\lib\\site-packages\\langchain_community\\utilities\\duckduckgo_search.py:63: RuntimeWarning: This package (`duckduckgo_search`) has been renamed to `ddgs`! Use `pip install ddgs` instead.\n",
      "  with DDGS() as ddgs:\n"
     ]
    },
    {
     "name": "stdout",
     "output_type": "stream",
     "text": [
      "1 day ago · Get the latest hourly weather updates for India today. Detailed forecast including temperature, wind, rain, snow, and UV index. Stay informed about today's weather conditions in … Sunny mornings, rainy afternoons, or foggy nights—stay ahead of changing weather conditions with Times of India’s comprehensive weather forecasts. Get real-time updates on temperature, … 1 day ago · The weather today in India will be hot with temperatures reaching 80°F. During the evening and night time the temperatures will drop to 78 ° F. For deep dive information check out … 1 day ago · Detailed hourly weather forecast for today - including weather conditions, temperature, pressure, humidity, precipitation, dewpoint, wind, visibility, and UV index data. 1 day ago · Delhi-NCR Rain, Weather Today LIVE Updates: The rain led to waterlogging in several parts of the national capital and slowed traffic, inconveniencing commuters during the morning …\n"
     ]
    },
    {
     "data": {
      "text/plain": [
       "{'retrieved_docs': Document(metadata={'source': 'websearch'}, page_content=\"1 day ago · Get the latest hourly weather updates for India today. Detailed forecast including temperature, wind, rain, snow, and UV index. Stay informed about today's weather conditions in … Sunny mornings, rainy afternoons, or foggy nights—stay ahead of changing weather conditions with Times of India’s comprehensive weather forecasts. Get real-time updates on temperature, … 1 day ago · The weather today in India will be hot with temperatures reaching 80°F. During the evening and night time the temperatures will drop to 78 ° F. For deep dive information check out … 1 day ago · Detailed hourly weather forecast for today - including weather conditions, temperature, pressure, humidity, precipitation, dewpoint, wind, visibility, and UV index data. 1 day ago · Delhi-NCR Rain, Weather Today LIVE Updates: The rain led to waterlogging in several parts of the national capital and slowed traffic, inconveniencing commuters during the morning …\")}"
      ]
     },
     "execution_count": 127,
     "metadata": {},
     "output_type": "execute_result"
    }
   ],
   "source": [
    "def websearch_route(state: AdaptiveRAGState):\n",
    "    \"Perform web search to retrieve documents\"\n",
    "    # Placeholder for web search logic\n",
    "    # For now, we will return an empty list\n",
    "    query = state[\"query\"]\n",
    "    print(query)\n",
    "    search_tool = DuckDuckGoSearchRun()\n",
    "    results = search_tool.invoke(query)  # Perform web search\n",
    "    print(results)\n",
    "    web_results = Document(page_content=results, metadata={\"source\": \"websearch\"})\n",
    "    return {\"retrieved_docs\": web_results}\n",
    "\n",
    "\n",
    "websearch_route({\"query\": \"How is the weather today?\"})  # Should return a list of documents related to the query"
   ]
  },
  {
   "cell_type": "code",
   "execution_count": 136,
   "id": "81192318",
   "metadata": {},
   "outputs": [
    {
     "name": "stdout",
     "output_type": "stream",
     "text": [
      "websearch\n",
      "What is weather today?\n",
      "api_wrapper=DuckDuckGoSearchAPIWrapper(region='wt-wt', safesearch='moderate', time='y', max_results=5, backend='auto', source='text')\n"
     ]
    },
    {
     "name": "stderr",
     "output_type": "stream",
     "text": [
      "d:\\abir\\ai_ml_cv_projects\\adaptive_rag\\.venv\\lib\\site-packages\\langchain_community\\utilities\\duckduckgo_search.py:63: RuntimeWarning: This package (`duckduckgo_search`) has been renamed to `ddgs`! Use `pip install ddgs` instead.\n",
      "  with DDGS() as ddgs:\n"
     ]
    },
    {
     "name": "stdout",
     "output_type": "stream",
     "text": [
      "Get the India weather forecast including weather radar and current conditions in India across major cities. 1 day ago · Get the latest hourly weather updates for India today. Detailed forecast including temperature, wind, rain, snow, and UV index. Stay informed about today's weather conditions in … 1 day ago · The weather today in India will be hot with temperatures reaching 80°F. During the evening and night time the temperatures will drop to 78 ° F. For deep dive information check out … Sunny mornings, rainy afternoons, or foggy nights—stay ahead of changing weather conditions with Times of India’s comprehensive weather forecasts. Get real-time updates on temperature, … 4 days ago · Get the latest Delhi weather updates! Check today’s forecast, temperature, humidity, hourly updates rain alerts. Stay prepared with real-time Delhi weather reports!\n"
     ]
    },
    {
     "data": {
      "text/plain": [
       "{'query': 'What is weather today?',\n",
       " 'datasource': 'websearch',\n",
       " 'retrieved_docs': Document(metadata={'source': 'websearch'}, page_content=\"Get the India weather forecast including weather radar and current conditions in India across major cities. 1 day ago · Get the latest hourly weather updates for India today. Detailed forecast including temperature, wind, rain, snow, and UV index. Stay informed about today's weather conditions in … 1 day ago · The weather today in India will be hot with temperatures reaching 80°F. During the evening and night time the temperatures will drop to 78 ° F. For deep dive information check out … Sunny mornings, rainy afternoons, or foggy nights—stay ahead of changing weather conditions with Times of India’s comprehensive weather forecasts. Get real-time updates on temperature, … 4 days ago · Get the latest Delhi weather updates! Check today’s forecast, temperature, humidity, hourly updates rain alerts. Stay prepared with real-time Delhi weather reports!\"),\n",
       " 'llm_response': AIMessage(content='The weather today in India will be hot with temperatures reaching 80°F during the day and dropping to 78°F in the evening and night. Stay informed about changing weather conditions with real-time updates from Times of India. For more detailed information, check out the latest Delhi weather updates for today.', additional_kwargs={'refusal': None}, response_metadata={'token_usage': {'completion_tokens': 59, 'prompt_tokens': 240, 'total_tokens': 299, 'completion_tokens_details': {'accepted_prediction_tokens': 0, 'audio_tokens': 0, 'reasoning_tokens': 0, 'rejected_prediction_tokens': 0}, 'prompt_tokens_details': {'audio_tokens': 0, 'cached_tokens': 0}}, 'model_name': 'gpt-3.5-turbo-0125', 'system_fingerprint': None, 'id': 'chatcmpl-C4sFKNAH5jOqgMOmDrUThojEkNI5U', 'service_tier': 'default', 'finish_reason': 'stop', 'logprobs': None}, id='run--687ac450-8c23-4761-942a-d9bc4012b421-0', usage_metadata={'input_tokens': 240, 'output_tokens': 59, 'total_tokens': 299, 'input_token_details': {'audio': 0, 'cache_read': 0}, 'output_token_details': {'audio': 0, 'reasoning': 0}})}"
      ]
     },
     "execution_count": 136,
     "metadata": {},
     "output_type": "execute_result"
    }
   ],
   "source": [
    "workflow.invoke({\"query\": \"What is weather today?\"})  # Should return a list of documents related to the query"
   ]
  },
  {
   "cell_type": "code",
   "execution_count": null,
   "id": "ab3bf376",
   "metadata": {},
   "outputs": [],
   "source": []
  }
 ],
 "metadata": {
  "kernelspec": {
   "display_name": ".venv (3.10.5)",
   "language": "python",
   "name": "python3"
  },
  "language_info": {
   "codemirror_mode": {
    "name": "ipython",
    "version": 3
   },
   "file_extension": ".py",
   "mimetype": "text/x-python",
   "name": "python",
   "nbconvert_exporter": "python",
   "pygments_lexer": "ipython3",
   "version": "3.10.5"
  }
 },
 "nbformat": 4,
 "nbformat_minor": 5
}
